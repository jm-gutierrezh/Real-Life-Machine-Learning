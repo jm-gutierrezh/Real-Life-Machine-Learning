{
 "cells": [
  {
   "cell_type": "markdown",
   "metadata": {},
   "source": [
    "# Serving Models (Work In Progress)\n",
    "\n",
    "### References\n",
    "\n",
    "* https://www.kdnuggets.com/2019/01/build-api-machine-learning-model-using-flask.html\n",
    "* https://www.tensorflow.org/serving/\n",
    "* https://js.tensorflow.org/\n",
    "* https://www.tensorflow.org/lite/"
   ]
  }
 ],
 "metadata": {
  "kernelspec": {
   "display_name": "Python 3",
   "language": "python",
   "name": "python3"
  },
  "language_info": {
   "codemirror_mode": {
    "name": "ipython",
    "version": 3
   },
   "file_extension": ".py",
   "mimetype": "text/x-python",
   "name": "python",
   "nbconvert_exporter": "python",
   "pygments_lexer": "ipython3",
   "version": "3.6.6"
  }
 },
 "nbformat": 4,
 "nbformat_minor": 2
}
